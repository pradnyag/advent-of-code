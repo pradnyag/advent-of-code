{
 "cells": [
  {
   "cell_type": "code",
   "execution_count": 6,
   "metadata": {},
   "outputs": [],
   "source": [
    "with open(\"day3_input.txt\",'r') as f:\n",
    "    input = f.readlines()"
   ]
  },
  {
   "cell_type": "code",
   "execution_count": 10,
   "metadata": {},
   "outputs": [
    {
     "name": "stdout",
     "output_type": "stream",
     "text": [
      "141\n"
     ]
    }
   ],
   "source": [
    "# Length of 1 line is 141\n",
    "print(len(input[2]))"
   ]
  },
  {
   "cell_type": "code",
   "execution_count": 16,
   "metadata": {},
   "outputs": [
    {
     "name": "stdout",
     "output_type": "stream",
     "text": [
      "8\n",
      "7\n",
      "4\n",
      "7\n",
      "7\n",
      "2\n",
      "7\n",
      "8\n",
      "7\n",
      "5\n",
      "5\n",
      "6\n",
      "2\n",
      "9\n",
      "2\n",
      "1\n",
      "4\n",
      "1\n",
      "9\n",
      "1\n",
      "0\n",
      "5\n",
      "4\n",
      "3\n",
      "1\n",
      "4\n",
      "3\n",
      "0\n",
      "8\n",
      "1\n",
      "5\n",
      "6\n",
      "7\n",
      "5\n",
      "9\n",
      "4\n",
      "0\n",
      "8\n",
      "9\n",
      "5\n",
      "4\n",
      "8\n",
      "4\n",
      "5\n",
      "5\n",
      "5\n",
      "1\n",
      "5\n"
     ]
    }
   ],
   "source": [
    "numbers = []\n",
    "for line in input[:2]:\n",
    "    r = 0\n",
    "    while r < len(line):\n",
    "        number = \"\"\n",
    "        if line[r].isdigit():\n",
    "            number += line[r]\n",
    "            while r < len(line):\n",
    "                \n",
    "\n",
    "        r += 1"
   ]
  },
  {
   "cell_type": "code",
   "execution_count": null,
   "metadata": {},
   "outputs": [],
   "source": []
  }
 ],
 "metadata": {
  "kernelspec": {
   "display_name": "Python 3",
   "language": "python",
   "name": "python3"
  },
  "language_info": {
   "codemirror_mode": {
    "name": "ipython",
    "version": 3
   },
   "file_extension": ".py",
   "mimetype": "text/x-python",
   "name": "python",
   "nbconvert_exporter": "python",
   "pygments_lexer": "ipython3",
   "version": "3.8.12"
  }
 },
 "nbformat": 4,
 "nbformat_minor": 2
}
