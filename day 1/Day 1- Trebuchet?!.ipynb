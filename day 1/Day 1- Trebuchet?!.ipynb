{
 "cells": [
  {
   "cell_type": "code",
   "execution_count": 114,
   "metadata": {},
   "outputs": [],
   "source": [
    "import pandas as pd \n",
    "df = pd.read_csv(\"day1_input\",  header=None, names=[\"text\"])\n",
    "\n",
    "# Rename the column to \"text\"\n",
    "df.columns = [\"text\"]"
   ]
  },
  {
   "cell_type": "markdown",
   "metadata": {},
   "source": [
    "# Part 1"
   ]
  },
  {
   "cell_type": "code",
   "execution_count": 115,
   "metadata": {},
   "outputs": [
    {
     "name": "stdout",
     "output_type": "stream",
     "text": [
      "77\n"
     ]
    }
   ],
   "source": [
    "string = \"treb7uchet\"\n",
    "output = \"\"\n",
    "\n",
    "for i in range(len(string)):\n",
    "    if(string[i].isdigit()):\n",
    "        output += str(string[i])\n",
    "        break\n",
    "    \n",
    "for i in range(len(string) -1, -1, -1):\n",
    "    if(string[i].isdigit()):\n",
    "        output += str(string[i])\n",
    "        break\n",
    "\n",
    "print(int(output))\n"
   ]
  },
  {
   "cell_type": "code",
   "execution_count": 116,
   "metadata": {},
   "outputs": [],
   "source": [
    "df['calibration_value'] = 0 \n",
    "\n",
    "for index, row in df.iterrows():\n",
    "\n",
    "    output = \"\"\n",
    "    string = row[\"text\"]\n",
    "\n",
    "    for i in range(len(string)):\n",
    "        if(string[i].isdigit()):\n",
    "            output += str(string[i])\n",
    "            break\n",
    "    \n",
    "    for i in range(len(string) -1, -1, -1):\n",
    "        if(string[i].isdigit()):\n",
    "            output += str(string[i])\n",
    "            break\n",
    "\n",
    "    df.at[index, 'calibration_value'] = int(output)\n"
   ]
  },
  {
   "cell_type": "code",
   "execution_count": 117,
   "metadata": {},
   "outputs": [
    {
     "data": {
      "text/html": [
       "<div>\n",
       "<style scoped>\n",
       "    .dataframe tbody tr th:only-of-type {\n",
       "        vertical-align: middle;\n",
       "    }\n",
       "\n",
       "    .dataframe tbody tr th {\n",
       "        vertical-align: top;\n",
       "    }\n",
       "\n",
       "    .dataframe thead th {\n",
       "        text-align: right;\n",
       "    }\n",
       "</style>\n",
       "<table border=\"1\" class=\"dataframe\">\n",
       "  <thead>\n",
       "    <tr style=\"text-align: right;\">\n",
       "      <th></th>\n",
       "      <th>text</th>\n",
       "      <th>calibration_value</th>\n",
       "    </tr>\n",
       "  </thead>\n",
       "  <tbody>\n",
       "    <tr>\n",
       "      <th>0</th>\n",
       "      <td>9dlvndqbddghpxc</td>\n",
       "      <td>99</td>\n",
       "    </tr>\n",
       "    <tr>\n",
       "      <th>1</th>\n",
       "      <td>rtkrbtthree8sixfoureight6</td>\n",
       "      <td>86</td>\n",
       "    </tr>\n",
       "    <tr>\n",
       "      <th>2</th>\n",
       "      <td>fdxrqmfxdkstpmcj7lmphgsmqqnmjrtwo3tcbc</td>\n",
       "      <td>73</td>\n",
       "    </tr>\n",
       "    <tr>\n",
       "      <th>3</th>\n",
       "      <td>onetjcsmgk57nvmkvcvkdtqtsksgpchsfsjzkkmb</td>\n",
       "      <td>57</td>\n",
       "    </tr>\n",
       "    <tr>\n",
       "      <th>4</th>\n",
       "      <td>six8threepvlxttc85two</td>\n",
       "      <td>85</td>\n",
       "    </tr>\n",
       "  </tbody>\n",
       "</table>\n",
       "</div>"
      ],
      "text/plain": [
       "                                       text  calibration_value\n",
       "0                           9dlvndqbddghpxc                 99\n",
       "1                 rtkrbtthree8sixfoureight6                 86\n",
       "2    fdxrqmfxdkstpmcj7lmphgsmqqnmjrtwo3tcbc                 73\n",
       "3  onetjcsmgk57nvmkvcvkdtqtsksgpchsfsjzkkmb                 57\n",
       "4                     six8threepvlxttc85two                 85"
      ]
     },
     "execution_count": 117,
     "metadata": {},
     "output_type": "execute_result"
    }
   ],
   "source": [
    "df.head(5)"
   ]
  },
  {
   "cell_type": "code",
   "execution_count": 118,
   "metadata": {},
   "outputs": [
    {
     "data": {
      "text/plain": [
       "55386"
      ]
     },
     "execution_count": 118,
     "metadata": {},
     "output_type": "execute_result"
    }
   ],
   "source": [
    "df['calibration_value'].sum()"
   ]
  },
  {
   "cell_type": "markdown",
   "metadata": {},
   "source": [
    "# Part 2"
   ]
  },
  {
   "cell_type": "code",
   "execution_count": 119,
   "metadata": {},
   "outputs": [],
   "source": [
    "df['updated_calibration_value'] = 0 \n",
    "\n",
    "hashmap = {\"zero\" : \"0\" , \"one\" : \"1\", \"two\" : \"2\", \"three\" : \"3\", \"four\": \"4\",\"five\" : \"5\", \"six\" : \"6\", \"seven\": \"7\" , \"eight\": \"8\", \"nine\" : \"9\" }\n",
    "\n",
    "for index, row in df.iterrows():\n",
    "\n",
    "    string = row[\"text\"]\n",
    "    output = \"\"\n",
    "    substring = \"\"\n",
    "    counter = 0\n",
    "\n",
    "    # Forward pass\n",
    "    for i in range(len(string)):\n",
    "\n",
    "        substring += string[i]\n",
    "\n",
    "        if ((string[i].isdigit())):\n",
    "            output += string[i]\n",
    "            break\n",
    "\n",
    "        for key in hashmap.keys():\n",
    "            if (key in substring):\n",
    "                output += hashmap[key]\n",
    "                substring = \"\"\n",
    "                counter = 1\n",
    "                break\n",
    "        \n",
    "        if (counter == 1):\n",
    "            break\n",
    "\n",
    "    # Reinitialising the counter\n",
    "    counter = 0\n",
    "     \n",
    "    # Backward pass\n",
    "    for i in range(len(string) - 1, -1, -1):\n",
    "\n",
    "        substring += string[i]\n",
    "        \n",
    "        if ((string[i].isdigit())):\n",
    "            output += string[i]\n",
    "            break\n",
    "\n",
    "        for key in hashmap.keys():\n",
    "            if (key in substring):\n",
    "                output += hashmap[key]\n",
    "                substring = \"\"\n",
    "                counter = 1\n",
    "                break\n",
    "        \n",
    "        if (counter == 1):\n",
    "            break\n",
    "\n",
    "        \n",
    "    df.at[index,'updated_calibration_value']= int(output)\n",
    "    \n"
   ]
  },
  {
   "cell_type": "code",
   "execution_count": 120,
   "metadata": {},
   "outputs": [
    {
     "data": {
      "text/html": [
       "<div>\n",
       "<style scoped>\n",
       "    .dataframe tbody tr th:only-of-type {\n",
       "        vertical-align: middle;\n",
       "    }\n",
       "\n",
       "    .dataframe tbody tr th {\n",
       "        vertical-align: top;\n",
       "    }\n",
       "\n",
       "    .dataframe thead th {\n",
       "        text-align: right;\n",
       "    }\n",
       "</style>\n",
       "<table border=\"1\" class=\"dataframe\">\n",
       "  <thead>\n",
       "    <tr style=\"text-align: right;\">\n",
       "      <th></th>\n",
       "      <th>text</th>\n",
       "      <th>calibration_value</th>\n",
       "      <th>updated_calibration_value</th>\n",
       "    </tr>\n",
       "  </thead>\n",
       "  <tbody>\n",
       "    <tr>\n",
       "      <th>0</th>\n",
       "      <td>9dlvndqbddghpxc</td>\n",
       "      <td>99</td>\n",
       "      <td>99</td>\n",
       "    </tr>\n",
       "    <tr>\n",
       "      <th>1</th>\n",
       "      <td>rtkrbtthree8sixfoureight6</td>\n",
       "      <td>86</td>\n",
       "      <td>36</td>\n",
       "    </tr>\n",
       "    <tr>\n",
       "      <th>2</th>\n",
       "      <td>fdxrqmfxdkstpmcj7lmphgsmqqnmjrtwo3tcbc</td>\n",
       "      <td>73</td>\n",
       "      <td>73</td>\n",
       "    </tr>\n",
       "    <tr>\n",
       "      <th>3</th>\n",
       "      <td>onetjcsmgk57nvmkvcvkdtqtsksgpchsfsjzkkmb</td>\n",
       "      <td>57</td>\n",
       "      <td>17</td>\n",
       "    </tr>\n",
       "    <tr>\n",
       "      <th>4</th>\n",
       "      <td>six8threepvlxttc85two</td>\n",
       "      <td>85</td>\n",
       "      <td>65</td>\n",
       "    </tr>\n",
       "  </tbody>\n",
       "</table>\n",
       "</div>"
      ],
      "text/plain": [
       "                                       text  calibration_value  \\\n",
       "0                           9dlvndqbddghpxc                 99   \n",
       "1                 rtkrbtthree8sixfoureight6                 86   \n",
       "2    fdxrqmfxdkstpmcj7lmphgsmqqnmjrtwo3tcbc                 73   \n",
       "3  onetjcsmgk57nvmkvcvkdtqtsksgpchsfsjzkkmb                 57   \n",
       "4                     six8threepvlxttc85two                 85   \n",
       "\n",
       "   updated_calibration_value  \n",
       "0                         99  \n",
       "1                         36  \n",
       "2                         73  \n",
       "3                         17  \n",
       "4                         65  "
      ]
     },
     "execution_count": 120,
     "metadata": {},
     "output_type": "execute_result"
    }
   ],
   "source": [
    "df.head(5)"
   ]
  },
  {
   "cell_type": "code",
   "execution_count": 121,
   "metadata": {},
   "outputs": [
    {
     "data": {
      "text/plain": [
       "54824"
      ]
     },
     "execution_count": 121,
     "metadata": {},
     "output_type": "execute_result"
    }
   ],
   "source": [
    "df['updated_calibration_value'].sum()"
   ]
  }
 ],
 "metadata": {
  "kernelspec": {
   "display_name": "Python 3",
   "language": "python",
   "name": "python3"
  },
  "language_info": {
   "codemirror_mode": {
    "name": "ipython",
    "version": 3
   },
   "file_extension": ".py",
   "mimetype": "text/x-python",
   "name": "python",
   "nbconvert_exporter": "python",
   "pygments_lexer": "ipython3",
   "version": "3.8.12"
  }
 },
 "nbformat": 4,
 "nbformat_minor": 2
}
