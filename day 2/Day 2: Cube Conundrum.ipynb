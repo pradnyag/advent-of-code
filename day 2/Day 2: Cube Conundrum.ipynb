{
 "cells": [
  {
   "cell_type": "markdown",
   "metadata": {},
   "source": [
    "# Part 1"
   ]
  },
  {
   "cell_type": "code",
   "execution_count": 2,
   "metadata": {},
   "outputs": [
    {
     "name": "stdout",
     "output_type": "stream",
     "text": [
      "2776\n"
     ]
    }
   ],
   "source": [
    "import re\n",
    "\n",
    "#open the file\n",
    "\n",
    "with open('day2_input.txt', 'r') as f:\n",
    "    line_list = f.readlines()\n",
    "\n",
    "game_ids= []\n",
    "possible_game = {\"red\" : 12, \"green\" : 13, \"blue\" : 14}\n",
    "\n",
    "for index, string in enumerate(line_list):\n",
    "\n",
    "    dict = {}\n",
    "\n",
    "    game = re.split(\",|;|:\",string)\n",
    "    game = game[1:]\n",
    "\n",
    "    for cube in game:\n",
    "        count = int(cube.split(\" \")[1])\n",
    "        color = cube.split(\" \")[2].strip()\n",
    "        \n",
    "        if (count > dict.get(color, 0)):\n",
    "            dict[color] = count\n",
    "\n",
    "    if all(dict[key] <= possible_game[key] for key in dict):\n",
    "        game_ids.append(index + 1)\n",
    "        \n",
    "print(sum(game_ids))"
   ]
  },
  {
   "cell_type": "markdown",
   "metadata": {},
   "source": [
    "# Part 2"
   ]
  },
  {
   "cell_type": "code",
   "execution_count": null,
   "metadata": {},
   "outputs": [],
   "source": []
  }
 ],
 "metadata": {
  "kernelspec": {
   "display_name": "Python 3",
   "language": "python",
   "name": "python3"
  },
  "language_info": {
   "codemirror_mode": {
    "name": "ipython",
    "version": 3
   },
   "file_extension": ".py",
   "mimetype": "text/x-python",
   "name": "python",
   "nbconvert_exporter": "python",
   "pygments_lexer": "ipython3",
   "version": "3.8.12"
  }
 },
 "nbformat": 4,
 "nbformat_minor": 2
}
